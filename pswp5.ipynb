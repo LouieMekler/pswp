{
 "cells": [
  {
   "cell_type": "code",
   "execution_count": 1,
   "id": "840cbbd1",
   "metadata": {},
   "outputs": [
    {
     "data": {
      "image/png": "[encoded data removed]",
      "text/plain": [
       "<Figure size 432x288 with 1 Axes>"
      ]
     },
     "metadata": {
      "needs_background": "light"
     },
     "output_type": "display_data"
    }
   ],
   "source": [
    "import numpy as np\n",
    "import matplotlib.pyplot as plt\n",
    "\n",
    "dirs = [[1,0],[0,-1],[-1,0],[0,1]]\n",
    "\n",
    "n = 31\n",
    "n1 = 2*n+1\n",
    "grid = np.zeros((n1,n1), dtype=int)\n",
    "\n",
    "pointer = [n,n]\n",
    "grid[n,n] = 0\n",
    "\n",
    "length = 1\n",
    "count = 1\n",
    "for s in range(n):\n",
    "    for d in range(4):\n",
    "        for l in range(length):\n",
    "            pointer[0] += dirs[d][0]\n",
    "            pointer[1] += dirs[d][1]\n",
    "            grid[pointer[1],pointer[0]] = count\n",
    "            count += 1\n",
    "        if d%2 == 1:\n",
    "            length += 1\n",
    "            \n",
    "for l in range(length-1):\n",
    "    pointer[0] += 1\n",
    "    grid[pointer[1],pointer[0]] = count\n",
    "    count += 1\n",
    "\n",
    "plt.imshow(grid,\"plasma\")\n",
    "\n",
    "for y in range(0):\n",
    "    for x in range(n1):\n",
    "        plt.text(s=str(grid[y,x]),x=x,y=y,\n",
    "                 ha='center',va='center',fontsize=\"x-small\")\n",
    "\n",
    "plt.axis(\"off\")\n",
    "plt.show()"
   ]
  },
  {
   "cell_type": "code",
   "execution_count": 2,
   "id": "24193272",
   "metadata": {},
   "outputs": [
    {
     "data": {
      "image/png": "[encoded data removed]",
      "text/plain": [
       "<Figure size 432x288 with 1 Axes>"
      ]
     },
     "metadata": {
      "needs_background": "light"
     },
     "output_type": "display_data"
    }
   ],
   "source": [
    "mod = 12\n",
    "f = lambda c : c%mod==0\n",
    "\n",
    "grid1=np.zeros((n1,n1),dtype=\"float\")\n",
    "for y in range(n1):\n",
    "    for x in range(n1):\n",
    "        grid1[y,x] = f(grid[y,x])\n",
    "grid1[n,n] = 0.5\n",
    "\n",
    "plt.imshow(grid1,\"binary\")\n",
    "\n",
    "for y in range(0):\n",
    "    for x in range(n1):\n",
    "        plt.text(s=str(grid[y,x]),x=x,y=y,\n",
    "                 ha='center',va='center',\n",
    "                 fontsize=\"small\",\n",
    "                 color=\"white\" if grid1[y,x] else \"black\")\n",
    "\n",
    "plt.title(f\"Indicator: i%{mod} == 0\")\n",
    "plt.axis(\"off\")\n",
    "plt.show()"
   ]
  },
  {
   "cell_type": "code",
   "execution_count": 3,
   "id": "e1eca309",
   "metadata": {},
   "outputs": [
    {
     "data": {
      "image/png": "[encoded data removed]",
      "text/plain": [
       "<Figure size 432x288 with 1 Axes>"
      ]
     },
     "metadata": {
      "needs_background": "light"
     },
     "output_type": "display_data"
    }
   ],
   "source": [
    "def is_prime(c):\n",
    "    if c == 2 or c == 3: return True\n",
    "    if c < 2 or c%2 == 0: return False\n",
    "    if c < 9: return True\n",
    "    if c%3 == 0: return False\n",
    "  \n",
    "    r = int(c**0.5)\n",
    "    f = 5\n",
    "    while f <= r:\n",
    "        if c % f == 0: return False\n",
    "        if c % (f+2) == 0: return False\n",
    "        f += 6\n",
    "    return True\n",
    "\n",
    "grid2=np.zeros((n1,n1),dtype=\"float\")\n",
    "for y in range(n1):\n",
    "    for x in range(n1):\n",
    "        grid2[y,x] = is_prime(grid[y,x])\n",
    "grid2[n,n] = 0.5\n",
    "\n",
    "plt.imshow(grid2,\"binary\")\n",
    "\n",
    "for y in range(0):\n",
    "    for x in range(n1):\n",
    "        plt.text(s=str(grid[y,x]),x=x,y=y,\n",
    "                 ha='center',va='center',\n",
    "                 fontsize=\"small\",\n",
    "                 color=\"white\" if grid2[y,x] else \"black\")\n",
    "\n",
    "plt.title(f\"Indicator: is_prime\")\n",
    "plt.axis(\"off\")\n",
    "plt.show()"
   ]
  }
 ],
 "metadata": {
  "kernelspec": {
   "display_name": "Python 3 (ipykernel)",
   "language": "python",
   "name": "python3"
  },
  "language_info": {
   "codemirror_mode": {
    "name": "ipython",
    "version": 3
   },
   "file_extension": ".py",
   "mimetype": "text/x-python",
   "name": "python",
   "nbconvert_exporter": "python",
   "pygments_lexer": "ipython3",
   "version": "3.9.12"
  }
 },
 "nbformat": 4,
 "nbformat_minor": 5
}
